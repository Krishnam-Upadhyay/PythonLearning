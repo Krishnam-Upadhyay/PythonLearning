{
  "nbformat": 4,
  "nbformat_minor": 0,
  "metadata": {
    "colab": {
      "name": "Untitled6.ipynb",
      "provenance": [],
      "authorship_tag": "ABX9TyMs15G5vy6aFDalmZ7Ez0CA"
    },
    "kernelspec": {
      "name": "python3",
      "display_name": "Python 3"
    },
    "language_info": {
      "name": "python"
    }
  },
  "cells": [
    {
      "cell_type": "code",
      "execution_count": 9,
      "metadata": {
        "id": "H33vEN6xC8Ge"
      },
      "outputs": [],
      "source": [
        "from threading import *\n",
        "import time\n"
      ]
    },
    {
      "cell_type": "code",
      "source": [
        "class Demo:\n",
        "  def num(self):\n",
        "    for i in range(1,6):\n",
        "      print(\"The number is \",i)\n",
        "      time.sleep(1)\n",
        "  def double(self):\n",
        "    for i in range(1,6):\n",
        "      print(\"the DOueble of the number is: \",2*i)\n",
        "      time.sleep(1)\n",
        "  def square(self):\n",
        "    for i in range(1,6):\n",
        "      print(\"The square of the number is : \", i*i)\n",
        "      time.sleep(1)    \n",
        "obj = Demo()\n",
        "t1=Thread(target = obj.num)\n",
        "t2 = Thread(target = obj.double)\n",
        "t3 = Thread(target = obj.square)\n",
        "\n",
        "t1.start()\n",
        "t2.start()\n",
        "t3.start()\n",
        "\n",
        "t1.join()\n",
        "t2.join()\n",
        "t3.join()\n",
        "\n",
        "print(\"This is the main thread\")\n",
        "\n",
        "\n",
        "\n",
        "    "
      ],
      "metadata": {
        "colab": {
          "base_uri": "https://localhost:8080/"
        },
        "id": "M4OA2nOaDXcg",
        "outputId": "6abbbf37-9078-41d0-d77f-dc7fb262dbff"
      },
      "execution_count": 10,
      "outputs": [
        {
          "output_type": "stream",
          "name": "stdout",
          "text": [
            "The number is  1\n",
            "the DOueble of the number is:  2\n",
            "The square of the number is :  1\n",
            "The number is  2\n",
            "the DOueble of the number is:  4\n",
            "The square of the number is :  4\n",
            "The number is  3\n",
            "the DOueble of the number is:  6\n",
            "The square of the number is :  9\n",
            "the DOueble of the number is:  8\n",
            "The number is The square of the number is :  16\n",
            " 4\n",
            "the DOueble of the number is:  10The number is \n",
            " 5\n",
            "The square of the number is :  25\n",
            "This is the main thread\n"
          ]
        }
      ]
    },
    {
      "cell_type": "code",
      "source": [
        "n "
      ],
      "metadata": {
        "id": "_v_J7VVKHZ1z"
      },
      "execution_count": null,
      "outputs": []
    }
  ]
}