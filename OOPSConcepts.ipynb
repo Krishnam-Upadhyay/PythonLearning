{
  "nbformat": 4,
  "nbformat_minor": 0,
  "metadata": {
    "colab": {
      "name": "Untitled5.ipynb",
      "provenance": [],
      "toc_visible": true,
      "authorship_tag": "ABX9TyN6HsDu5DIVV68cAuC9XwCw"
    },
    "kernelspec": {
      "name": "python3",
      "display_name": "Python 3"
    },
    "language_info": {
      "name": "python"
    }
  },
  "cells": [
    {
      "cell_type": "code",
      "execution_count": 22,
      "metadata": {
        "colab": {
          "base_uri": "https://localhost:8080/"
        },
        "id": "P4wn0XVGA5UY",
        "outputId": "889369ee-3a24-4051-fc93-253173a138fa"
      },
      "outputs": [
        {
          "output_type": "stream",
          "name": "stdout",
          "text": [
            "maximus speed is : 120\n",
            "maximus speed is : 134\n",
            "maximus speed is : 234\n"
          ]
        }
      ],
      "source": [
        "class Car:\n",
        "  def __init__(self,year,speed):\n",
        "    self.year = year\n",
        "    self.speed = speed\n",
        "  def getSpeed(self):\n",
        "    print(\"maximus speed is :\",self.speed)\n",
        "  def setSpeed(self,speed):\n",
        "    self.speed = speed  \n",
        "bmw =Car(2020,120)\n",
        "ford = Car(2018,134)\n",
        "Car.getSpeed(bmw)\n",
        "Car.getSpeed(ford)    \n",
        "bmw.setSpeed(234)\n",
        "bmw.getSpeed()"
      ]
    },
    {
      "cell_type": "code",
      "source": [
        "#Creating Child class\n",
        "#Inheritance\n",
        "class Sedan(Car): \n",
        "  def accelerate(self):\n",
        "    print(456)\n",
        "  def opentruck(self):\n",
        "    print(\"345\")  \n",
        "class SUV(Car):\n",
        "  def accelerate(self):\n",
        "    print(57)\n",
        "Honda = Sedan(2018,45)\n",
        "Honda.opentruck()\n",
        "Honda.getSpeed()\n",
        "    \n",
        "\n",
        " \n",
        "  \n"
      ],
      "metadata": {
        "colab": {
          "base_uri": "https://localhost:8080/"
        },
        "id": "sT17rksGBIyR",
        "outputId": "8e212e90-80d4-4a35-fc7a-03bd79704b18"
      },
      "execution_count": 28,
      "outputs": [
        {
          "output_type": "stream",
          "name": "stdout",
          "text": [
            "345\n",
            "maximus speed is : 45\n"
          ]
        }
      ]
    },
    {
      "cell_type": "code",
      "source": [
        ""
      ],
      "metadata": {
        "id": "eRG5Z0oLDWdS"
      },
      "execution_count": null,
      "outputs": []
    },
    {
      "cell_type": "code",
      "source": [
        "i = 1\n",
        "sum = 0\n",
        "while i<= 10:\n",
        "  sum=sum+i\n",
        "  i += 1\n",
        "print(sum)  \n"
      ],
      "metadata": {
        "id": "boVJKqGxDnAU"
      },
      "execution_count": null,
      "outputs": []
    },
    {
      "cell_type": "code",
      "source": [
        "from array import *"
      ],
      "metadata": {
        "id": "fTQFON2_EJS8"
      },
      "execution_count": null,
      "outputs": []
    },
    {
      "cell_type": "code",
      "source": [
        "arr = array('h',[1,-2,3,4,])"
      ],
      "metadata": {
        "id": "9VDdCgjCKYtS"
      },
      "execution_count": null,
      "outputs": []
    },
    {
      "cell_type": "code",
      "source": [
        "print(arr.buffer_info())"
      ],
      "metadata": {
        "id": "cMSZ6NdWKfVX"
      },
      "execution_count": null,
      "outputs": []
    },
    {
      "cell_type": "code",
      "source": [
        "print(arr[2])"
      ],
      "metadata": {
        "id": "LfFu3PxvKs12"
      },
      "execution_count": null,
      "outputs": []
    },
    {
      "cell_type": "code",
      "source": [
        "for i in arr:\n",
        "  print(i,end=\"*\")"
      ],
      "metadata": {
        "id": "C4KIp9RpK1ge"
      },
      "execution_count": null,
      "outputs": []
    },
    {
      "cell_type": "code",
      "source": [
        "for pnt in range(len(arr)):\n",
        "  print(pnt,arr[pnt])"
      ],
      "metadata": {
        "id": "SWgMVfI1K5ZI"
      },
      "execution_count": null,
      "outputs": []
    },
    {
      "cell_type": "code",
      "source": [
        "arr.append(40)"
      ],
      "metadata": {
        "id": "7LrR60XOLIZW"
      },
      "execution_count": null,
      "outputs": []
    },
    {
      "cell_type": "code",
      "source": [
        "arr.remove(40)"
      ],
      "metadata": {
        "id": "sPiNT_-FL6tv"
      },
      "execution_count": null,
      "outputs": []
    },
    {
      "cell_type": "code",
      "source": [
        "print(arr)"
      ],
      "metadata": {
        "id": "w_bxPYsLL-NU"
      },
      "execution_count": null,
      "outputs": []
    },
    {
      "cell_type": "code",
      "source": [
        "arr.append(2)"
      ],
      "metadata": {
        "id": "NW0E1jBGL_TB"
      },
      "execution_count": null,
      "outputs": []
    },
    {
      "cell_type": "code",
      "source": [
        "print(aar)"
      ],
      "metadata": {
        "id": "2-9-tSKHMFOK"
      },
      "execution_count": null,
      "outputs": []
    },
    {
      "cell_type": "code",
      "source": [
        "def welcome():\n",
        "  print(\"Good Morning\")\n",
        "\n",
        "welcome()  "
      ],
      "metadata": {
        "id": "9s6o9FNwMKfn"
      },
      "execution_count": null,
      "outputs": []
    },
    {
      "cell_type": "code",
      "source": [
        "def add(a,b):\n",
        "  total = a+b\n",
        "  print(total)"
      ],
      "metadata": {
        "id": "2Owdnvf-V-5A"
      },
      "execution_count": null,
      "outputs": []
    },
    {
      "cell_type": "code",
      "source": [
        "add(4,5)"
      ],
      "metadata": {
        "id": "LanAIoJKWPlE"
      },
      "execution_count": null,
      "outputs": []
    },
    {
      "cell_type": "code",
      "source": [
        ""
      ],
      "metadata": {
        "id": "gmuYmK-WWRWL"
      },
      "execution_count": null,
      "outputs": []
    },
    {
      "cell_type": "code",
      "source": [
        ""
      ],
      "metadata": {
        "id": "ClLZ5UuoWXNl"
      },
      "execution_count": null,
      "outputs": [] 
    }
  ]
}
