{
  "nbformat": 4,
  "nbformat_minor": 0,
  "metadata": {
    "colab": {
      "name": "Untitled6.ipynb",
      "provenance": [],
      "authorship_tag": "ABX9TyMICfzjsjLd/K7QPRJXSLKJ"
    },
    "kernelspec": {
      "name": "python3",
      "display_name": "Python 3"
    },
    "language_info": {
      "name": "python"
    }
  },
  "cells": [
    {
      "cell_type": "code",
      "execution_count": 11,
      "metadata": {
        "id": "H33vEN6xC8Ge"
      },
      "outputs": [],
      "source": [
        "import os\n"
      ]
    },
    {
      "cell_type": "code",
      "source": [
        "def current_directory():\n",
        "  cwd = os.getcwd()\n",
        "  print(cwd)\n",
        "current_directory()  "
      ],
      "metadata": {
        "colab": {
          "base_uri": "https://localhost:8080/"
        },
        "id": "_v_J7VVKHZ1z",
        "outputId": "485179c1-a934-40f9-cb18-abcedb1e3033"
      },
      "execution_count": 13,
      "outputs": [
        {
          "output_type": "stream",
          "name": "stdout",
          "text": [
            "/content\n"
          ]
        }
      ]
    },
    {
      "cell_type": "code",
      "source": [
        "def file_path(filename):\n",
        "  path = os.path.abspath((filename))\n",
        "  print(path)\n",
        "\n",
        "filename = \"sample.txt\"\n",
        "file_path(filename)"
      ],
      "metadata": {
        "colab": {
          "base_uri": "https://localhost:8080/"
        },
        "id": "bAwxMbnuKBLA",
        "outputId": "dbb7fdf5-12a9-4b15-fcb0-d72cd39359b8"
      },
      "execution_count": 15,
      "outputs": [
        {
          "output_type": "stream",
          "name": "stdout",
          "text": [
            "/content/sample.txt\n"
          ]
        }
      ]
    },
    {
      "cell_type": "code",
      "source": [
        "#import time module\n",
        "import time"
      ],
      "metadata": {
        "id": "b824B2acKWm8"
      },
      "execution_count": 16,
      "outputs": []
    },
    {
      "cell_type": "code",
      "source": [
        "epc = time.time()\n",
        "print(epc)"
      ],
      "metadata": {
        "colab": {
          "base_uri": "https://localhost:8080/"
        },
        "id": "ZHIcBnX3Kfbl",
        "outputId": "46c644e1-fa74-4557-ca86-05b05df4925b"
      },
      "execution_count": 17,
      "outputs": [
        {
          "output_type": "stream",
          "name": "stdout",
          "text": [
            "1656501202.9175084\n"
          ]
        }
      ]
    },
    {
      "cell_type": "code",
      "source": [
        "localtime = time.localtime()\n",
        "print(localtime)\n",
        "print(localtime.tm_year)"
      ],
      "metadata": {
        "colab": {
          "base_uri": "https://localhost:8080/"
        },
        "id": "krpxtbAgKmx8",
        "outputId": "2f137309-d431-4cc9-d82a-ba464d6d974d"
      },
      "execution_count": 20,
      "outputs": [
        {
          "output_type": "stream",
          "name": "stdout",
          "text": [
            "time.struct_time(tm_year=2022, tm_mon=6, tm_mday=29, tm_hour=11, tm_min=14, tm_sec=47, tm_wday=2, tm_yday=180, tm_isdst=0)\n",
            "2022\n"
          ]
        }
      ]
    },
    {
      "cell_type": "code",
      "source": [
        ""
      ],
      "metadata": {
        "id": "Cv0i--TxKrkE"
      },
      "execution_count": 21,
      "outputs": []
    },
    {
      "cell_type": "code",
      "source": [
        "#Examples of some function execution"
      ],
      "metadata": {
        "id": "tut1bevoLGdv"
      },
      "execution_count": 36,
      "outputs": []
    },
    {
      "cell_type": "code",
      "source": [
        "def function():\n",
        "  X=10\n",
        "  def fun2():\n",
        "    return X+1\n",
        "  return X \n",
        "\n",
        "function()  \n",
        "\n"
      ],
      "metadata": {
        "colab": {
          "base_uri": "https://localhost:8080/"
        },
        "id": "ZRoOzlE2LTdK",
        "outputId": "3c866127-bbab-419e-e3ef-a2f7b68ecaa2"
      },
      "execution_count": 37,
      "outputs": [
        {
          "output_type": "execute_result",
          "data": {
            "text/plain": [
              "10"
            ]
          },
          "metadata": {},
          "execution_count": 37
        }
      ]
    },
    {
      "cell_type": "code",
      "source": [
        ""
      ],
      "metadata": {
        "id": "IQ4yZiNfP6AE"
      },
      "execution_count": null,
      "outputs": []
    }
  ]
}